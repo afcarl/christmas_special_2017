{
 "cells": [
  {
   "cell_type": "markdown",
   "metadata": {},
   "source": [
    "# Proof of Work\n",
    "\n",
    "The challenge of blockchain is that we need something that is **difficult to compute** and easy to verify. This assymetry is what makes the problem more challenging. Here we introduce proof of work. The fact that it is difficult to compute a **proof of work** is what makes it harder for people to create their own fake blockchain.\n",
    "\n",
    "The idea of proof of work is to have a task which is difficult to do and ideally one that has a scalable level of difficulty (if only one machine is working on proof of work it is easy, if many are it can be made more difficult as to keep the rate of difficult problems solved -> bitcoins mined, constant).\n",
    "\n",
    "One example of a proof of work is finding the prime factors of large integers. For example, what are the prime factors of 969? Working that out will take a while. However if I present you with an answer you can very quickly verify that it is a correct answer:"
   ]
  },
  {
   "cell_type": "code",
   "execution_count": 1,
   "metadata": {},
   "outputs": [
    {
     "data": {
      "text/plain": [
       "969"
      ]
     },
     "execution_count": 1,
     "metadata": {},
     "output_type": "execute_result"
    }
   ],
   "source": [
    "3 * 17 * 19"
   ]
  },
  {
   "cell_type": "markdown",
   "metadata": {},
   "source": [
    "For the proof of work used in our blockchain we also want to be able to increase the difficulty. This way as more people join the blockchain we can keep the rate at which blocks are mined roughly constant.\n",
    "\n",
    "Our proof of work will be finding the hash of a transaction that ends with three zeros. As hashing a fixed input will always result in the same output, we will also add an integer to each record of a transaction and keep increasing it until the value of the hash function is what we are looking for.\n",
    "\n",
    "These are our transactions from earlier:"
   ]
  },
  {
   "cell_type": "code",
   "execution_count": 2,
   "metadata": {
    "collapsed": true
   },
   "outputs": [],
   "source": [
    "transactions = [\n",
    "    {'date': '2017-12-12', 'content': 'Tim pays Joel $3', 'nonce': 0},\n",
    "    {'date': '2017-12-13', 'content': 'Joel pays Kevin $1.5', 'nonce': 0},\n",
    "    {'date': '2017-12-13', 'content': 'Tim pays Joel $3', 'nonce': 0},\n",
    "]"
   ]
  },
  {
   "cell_type": "markdown",
   "metadata": {},
   "source": [
    "Next is our function that solves the proof of work problem. To stick with the bitcoin terminoligy we call it `mine`. As in mining a new block.\n",
    "\n",
    "We pass it a transaction, and how many trailing zeros we want our hash value to have:"
   ]
  },
  {
   "cell_type": "code",
   "execution_count": 3,
   "metadata": {
    "collapsed": true
   },
   "outputs": [],
   "source": [
    "import json\n",
    "import hashlib\n",
    "\n",
    "\n",
    "def mine(transaction, trailing_zeros=3):\n",
    "    h = ''\n",
    "    while not h.endswith('0' * trailing_zeros):\n",
    "        transaction['nonce'] += 1\n",
    "        transaction_string = json.dumps(transaction, sort_keys=True).encode()\n",
    "        h = hashlib.sha256(transaction_string).hexdigest()[-8:]\n",
    "\n",
    "    transaction['hash'] = h\n",
    "    return transaction"
   ]
  },
  {
   "cell_type": "code",
   "execution_count": 4,
   "metadata": {},
   "outputs": [
    {
     "data": {
      "text/plain": [
       "{'content': 'Tim pays Joel $3',\n",
       " 'date': '2017-12-12',\n",
       " 'hash': 'a3137000',\n",
       " 'nonce': 2878}"
      ]
     },
     "execution_count": 4,
     "metadata": {},
     "output_type": "execute_result"
    }
   ],
   "source": [
    "mine(transactions[0])"
   ]
  },
  {
   "cell_type": "markdown",
   "metadata": {},
   "source": [
    "That was not a difficult enough problem and so we need to make it more challenging so it takes longer. So now we try having the last 5 digits end in 0"
   ]
  },
  {
   "cell_type": "code",
   "execution_count": 5,
   "metadata": {},
   "outputs": [
    {
     "data": {
      "text/plain": [
       "{'content': 'Tim pays Joel $3',\n",
       " 'date': '2017-12-12',\n",
       " 'hash': '48100000',\n",
       " 'nonce': 252008}"
      ]
     },
     "execution_count": 5,
     "metadata": {},
     "output_type": "execute_result"
    }
   ],
   "source": [
    "mine(transactions[0], trailing_zeros=5)"
   ]
  },
  {
   "cell_type": "markdown",
   "metadata": {},
   "source": [
    "# Timing\n",
    "\n",
    "We now have a proof of work algorithm where we can control the difficulty of the problem. Let's make a plot of how the computation time changes when we increase the number of trailing zeros we require."
   ]
  },
  {
   "cell_type": "code",
   "execution_count": 6,
   "metadata": {
    "collapsed": true
   },
   "outputs": [],
   "source": [
    "from time import time\n",
    "\n",
    "zero_count = []\n",
    "times = []\n",
    "\n",
    "for n in range(6):\n",
    "    # average over our three transactions\n",
    "    for transaction in transactions:\n",
    "        tic = time()\n",
    "        mine(transaction, trailing_zeros=n)\n",
    "        toc = time()\n",
    "        zero_count += [n]\n",
    "        times.append(toc - tic)   "
   ]
  },
  {
   "cell_type": "code",
   "execution_count": 7,
   "metadata": {},
   "outputs": [
    {
     "data": {
      "image/png": "[encoded data removed]",
      "text/plain": [
       "<matplotlib.figure.Figure at 0x10f2a1208>"
      ]
     },
     "metadata": {},
     "output_type": "display_data"
    }
   ],
   "source": [
    "%matplotlib inline\n",
    "\n",
    "import matplotlib.pyplot as plt\n",
    "\n",
    "plt.plot(zero_count, times, 'r+')\n",
    "plt.xlabel(\"trailing zeros\")\n",
    "plt.ylabel(\"time (s)\");"
   ]
  },
  {
   "cell_type": "code",
   "execution_count": null,
   "metadata": {
    "collapsed": true
   },
   "outputs": [],
   "source": []
  }
 ],
 "metadata": {
  "kernelspec": {
   "display_name": "Python [default]",
   "language": "python",
   "name": "python3"
  },
  "language_info": {
   "codemirror_mode": {
    "name": "ipython",
    "version": 3
   },
   "file_extension": ".py",
   "mimetype": "text/x-python",
   "name": "python",
   "nbconvert_exporter": "python",
   "pygments_lexer": "ipython3",
   "version": "3.5.2"
  }
 },
 "nbformat": 4,
 "nbformat_minor": 2
}
