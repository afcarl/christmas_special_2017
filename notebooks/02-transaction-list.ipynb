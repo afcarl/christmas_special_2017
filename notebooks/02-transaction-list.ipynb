{
 "cells": [
  {
   "cell_type": "markdown",
   "metadata": {},
   "source": [
    "# A signed list of transactions\n",
    "\n",
    "Following the slides we can do the same task with a list of transactions\n",
    "\n",
    "```\n",
    "Tim pays Joel $3\n",
    "Joel pays Kevin $1.5\n",
    "Tim pays Joel $3\n",
    "```\n"
   ]
  },
  {
   "cell_type": "code",
   "execution_count": 1,
   "metadata": {
    "collapsed": true
   },
   "outputs": [],
   "source": [
    "from hashlib import sha256\n",
    "import json\n",
    "\n",
    "def simple_hash_func(value):\n",
    "    return sha256('{}'.format(value).encode()).hexdigest()[-6:]"
   ]
  },
  {
   "cell_type": "code",
   "execution_count": 2,
   "metadata": {
    "collapsed": true
   },
   "outputs": [],
   "source": [
    "transactions = [\n",
    "    {'date': '2017-12-12', 'content': 'Tim pays Joel $3', 'nonce': 0},\n",
    "    {'date': '2017-12-13', 'content': 'Joel pays Kevin $1.5', 'nonce': 0},\n",
    "    {'date': '2017-12-13', 'content': 'Tim pays Joel $3', 'nonce': 0},\n",
    "]"
   ]
  },
  {
   "cell_type": "markdown",
   "metadata": {},
   "source": [
    "We will link this set of transaction to each other by computing a hash for each one that includes the hash of the previous transaction. This way the third transaction is linked to the second, which is linked to the first."
   ]
  },
  {
   "cell_type": "code",
   "execution_count": 3,
   "metadata": {},
   "outputs": [
    {
     "name": "stdout",
     "output_type": "stream",
     "text": [
      "Date\t\tContent\t\t\tNonce\tSig.\tLast Signature\n",
      "2017-12-12\tTim pays Joel $3\t0\tbbf864\t\n",
      "2017-12-13\tJoel pays Kevin $1.5\t0\td21dd0\tbbf864\n",
      "2017-12-13\tTim pays Joel $3\t0\t1da596\td21dd0\n"
     ]
    }
   ],
   "source": [
    "def sign_transactions(transactions):\n",
    "    signed = []\n",
    "\n",
    "    for transaction in transactions:\n",
    "        new_transaction = transaction.copy()\n",
    "        if signed:\n",
    "            new_transaction['previous_signature'] = signed[-1]['signature']\n",
    "        else:\n",
    "            new_transaction['previous_signature'] = ''\n",
    "\n",
    "        signature = simple_hash_func(\n",
    "            json.dumps(new_transaction, sort_keys=True).encode()\n",
    "        )\n",
    "        new_transaction['signature'] = signature\n",
    "        signed.append(new_transaction)\n",
    "        \n",
    "    return signed\n",
    "\n",
    "signed_transactions = sign_transactions(transactions)\n",
    "print('Date\\t\\tContent\\t\\t\\tNonce\\tSig.\\tLast Signature')\n",
    "for c_transaction in signed_transactions:\n",
    "    print('{date}\\t{content}\\t{nonce}\\t{signature}'\n",
    "          '\\t{previous_signature}'.format(**c_transaction))"
   ]
  },
  {
   "cell_type": "markdown",
   "metadata": {},
   "source": [
    "We can now try and manipulate an earlier transaction in our chain and see what happens.\n",
    "\n",
    "We make a fairly simple modification, swapping a `5` and a `.` in the second transaction. As a result Kevin wil lreceive \\$15 instead of $1.5. A third party will be able to tell that this modification has happened because the signature for the last transaction differs from what they have."
   ]
  },
  {
   "cell_type": "code",
   "execution_count": 4,
   "metadata": {},
   "outputs": [
    {
     "name": "stdout",
     "output_type": "stream",
     "text": [
      "\t2017-12-12\tTim pays Joel $3\tNonce:0\n",
      "\t\t\t\tnew:  bbf864\n",
      "\t\t\t\told:  bbf864\n",
      "\t2017-12-13\tJoel pays Kevin $15.\tNonce:0\n",
      "\t\t\t\tnew:  143aa0\n",
      "\t\t\t\told:  d21dd0\n",
      "\t2017-12-13\tTim pays Joel $3\tNonce:0\n",
      "\t\t\t\tnew:  dcde1a\n",
      "\t\t\t\told:  1da596\n"
     ]
    }
   ],
   "source": [
    "# make a copy of the transaction we want to fake\n",
    "fake_transaction = transactions[1].copy()\n",
    "fake_transaction['content'] = 'Joel pays Kevin $15.'\n",
    "# re-insert it into the list\n",
    "fake_transaction_list = [transactions[0], fake_transaction, transactions[2]]\n",
    "\n",
    "new_signed_transactions = sign_transactions(fake_transaction_list)\n",
    "\n",
    "for new_transaction, old_transaction in zip(new_signed_transactions, signed_transactions):\n",
    "    print('\\t{date}\\t{content}\\tNonce:{nonce}'.format(**new_transaction))\n",
    "    print('\\t\\t\\t\\tnew: ', new_transaction['signature'])\n",
    "    print('\\t\\t\\t\\told: ', old_transaction['signature'])"
   ]
  },
  {
   "cell_type": "markdown",
   "metadata": {},
   "source": [
    "Note how the value of the hash function for the second transation is completely different from its old value even though we just swapped a `5` and `.`. Because the hash value of the previous transaction feeds into the current transaction's hash value we can tell by looking just at the last transaction that something has gone wrong or was manipulated along the way. We do not have to go through every single transaction to be able to tell.\n",
    "\n",
    "The problem with using a simple hash function like this is that it is not very expensive to  create a fake blockchain where you recompute all the hashes yourself."
   ]
  },
  {
   "cell_type": "code",
   "execution_count": 5,
   "metadata": {},
   "outputs": [
    {
     "name": "stdout",
     "output_type": "stream",
     "text": [
      "magic nonce found: 15183014 \tsignature:\t d21dd0\n",
      "CPU times: user 2min 42s, sys: 448 ms, total: 2min 42s\n",
      "Wall time: 2min 44s\n"
     ]
    }
   ],
   "source": [
    "%%time\n",
    "goal_signature = signed_transactions[1]['signature']\n",
    "# make a copy of the transaction\n",
    "fake_transaction = transactions[1].copy()\n",
    "fake_transaction['content'] = 'Joel pays Kevin $15.'\n",
    "fake_transaction['previous_signature'] = signed_transactions[0]['signature']\n",
    "\n",
    "while True:\n",
    "    fake_transaction['nonce']+=1\n",
    "    cur_signature = simple_hash_func(\n",
    "        json.dumps(fake_transaction, sort_keys=True).encode()\n",
    "    )\n",
    "    if cur_signature == goal_signature:\n",
    "        print('magic nonce found:', fake_transaction['nonce'], '\\tsignature:\\t', cur_signature)\n",
    "        \n",
    "        break\n",
    "# re-insert it into the list\n",
    "fake_transaction_list = [transactions[0], fake_transaction, transactions[2]]"
   ]
  },
  {
   "cell_type": "code",
   "execution_count": 6,
   "metadata": {},
   "outputs": [
    {
     "name": "stdout",
     "output_type": "stream",
     "text": [
      "\t2017-12-12\tTim pays Joel $3\t0\n",
      "\t\t\t\tnew:  bbf864\n",
      "\t\t\t\told:  bbf864\n",
      "\t2017-12-13\tJoel pays Kevin $15.\t15183014\n",
      "\t\t\t\tnew:  d21dd0\n",
      "\t\t\t\told:  d21dd0\n",
      "\t2017-12-13\tTim pays Joel $3\t0\n",
      "\t\t\t\tnew:  1da596\n",
      "\t\t\t\told:  1da596\n"
     ]
    }
   ],
   "source": [
    "new_signed_transactions = sign_transactions(fake_transaction_list)\n",
    "\n",
    "for new_transaction, old_transaction in zip(new_signed_transactions, signed_transactions):\n",
    "    print('\\t{date}\\t{content}\\t{nonce}'.format(**new_transaction))\n",
    "    print('\\t\\t\\t\\tnew: ', new_transaction['signature'])\n",
    "    print('\\t\\t\\t\\told: ', old_transaction['signature'])"
   ]
  },
  {
   "cell_type": "code",
   "execution_count": null,
   "metadata": {
    "collapsed": true
   },
   "outputs": [],
   "source": []
  }
 ],
 "metadata": {
  "kernelspec": {
   "display_name": "Python [default]",
   "language": "python",
   "name": "python3"
  },
  "language_info": {
   "codemirror_mode": {
    "name": "ipython",
    "version": 3
   },
   "file_extension": ".py",
   "mimetype": "text/x-python",
   "name": "python",
   "nbconvert_exporter": "python",
   "pygments_lexer": "ipython3",
   "version": "3.5.2"
  }
 },
 "nbformat": 4,
 "nbformat_minor": 2
}
